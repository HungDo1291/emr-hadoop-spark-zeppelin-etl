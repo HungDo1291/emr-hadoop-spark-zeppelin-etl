{
 "cells": [
  {
   "cell_type": "code",
   "execution_count": 1,
   "metadata": {},
   "outputs": [],
   "source": [
    "import subprocess\n",
    "from urllib.parse import urlparse\n",
    "import os\n",
    "import boto3\n"
   ]
  },
  {
   "cell_type": "code",
   "execution_count": null,
   "metadata": {},
   "outputs": [],
   "source": [
    "def execute(args):\n",
    "    print('running command : %s' % ( ' '.join(args) ))\n",
    "    process = subprocess.Popen(args, stdout=subprocess.PIPE, stderr=subprocess.STDOUT)\n",
    "    output = process.communicate()\n",
    "    print ('STDOUT:{}'.format(output))\n"
   ]
  },
  {
   "cell_type": "code",
   "execution_count": 2,
   "metadata": {},
   "outputs": [],
   "source": [
    "def split_s3_path(s3_path):\n",
    "    o = urlparse(s3_path.strip())\n",
    "    print(o)\n",
    "    return o.netloc, o.path[1:]"
   ]
  },
  {
   "cell_type": "code",
   "execution_count": 3,
   "metadata": {},
   "outputs": [],
   "source": [
    "def generate_data():\n",
    "    \n",
    "    path = \"/Users/nikki/work/code/Fake-Apache-Log-Generator/\" \n",
    "    os.chdir(path)\n",
    "    \n",
    "    cmd = [ \"./venv/bin/python\", \"apache-fake-log-gen.py\", \"-n\", \"1000\", \"-o\", \"GZ\"]\n",
    "    execute(cmd)\n",
    "    \n",
    "    # List files in current directory\n",
    "    files = os.listdir(os.curdir) \n",
    "    # particular files from a directories\n",
    "    list = [path + k for k in files if 'access_log' in k]\n",
    "    print(list)\n",
    "    return list"
   ]
  },
  {
   "cell_type": "code",
   "execution_count": 4,
   "metadata": {},
   "outputs": [],
   "source": [
    "def del_local_file(list_of_file):\n",
    "    for file in list_of_file:\n",
    "        print(\"Removing file from local\")\n",
    "        os.remove(file)\n"
   ]
  },
  {
   "cell_type": "code",
   "execution_count": 5,
   "metadata": {},
   "outputs": [],
   "source": [
    "def copy_to_s3(dest_path, log_files):\n",
    "    bucket, path = split_s3_path(dest_path)\n",
    "    print('bucket : %s and path : %s '%( bucket, path))\n",
    "    s3 = boto3.resource('s3')\n",
    "    bkt = s3.Bucket(bucket)\n",
    "    \n",
    "    for log in log_files:\n",
    "        filename = log.split(\"/\")[-1]\n",
    "        print('Copying file %s to S3 loaction %s' % (log,path+filename))\n",
    "        bkt.upload_file(log,path+filename)\n",
    "    "
   ]
  },
  {
   "cell_type": "code",
   "execution_count": 6,
   "metadata": {},
   "outputs": [],
   "source": [
    "def run(date,location):\n",
    "    log_files = generate_data()\n",
    "\n",
    "    copy_to_s3(location + date + '/', log_files)\n",
    "\n",
    "    del_local_file(log_files)"
   ]
  },
  {
   "cell_type": "code",
   "execution_count": 7,
   "metadata": {},
   "outputs": [
    {
     "name": "stdout",
     "output_type": "stream",
     "text": [
      "running command : ./venv/bin/python apache-fake-log-gen.py -n 1000 -o GZ\n",
      "STDOUT:(b'', None)\n",
      "['/Users/nikki/work/code/Fake-Apache-Log-Generator/access_log_20181229-170053.log.gz']\n",
      "ParseResult(scheme='s3', netloc='nikita-ds-playground', path='/raw/access-log/2018-01-03/', params='', query='', fragment='')\n",
      "bucket : nikita-ds-playground and path : raw/access-log/2018-01-03/ \n",
      "Copying file /Users/nikki/work/code/Fake-Apache-Log-Generator/access_log_20181229-170053.log.gz to S3 loaction raw/access-log/2018-01-03/access_log_20181229-170053.log.gz\n",
      "Removing file from local\n"
     ]
    }
   ],
   "source": [
    "date = '2018-01-03'\n",
    "location = 's3://nikita-ds-playground/raw/access-log/'\n",
    "\n",
    "run(date,location)\n"
   ]
  },
  {
   "cell_type": "code",
   "execution_count": null,
   "metadata": {},
   "outputs": [],
   "source": []
  }
 ],
 "metadata": {
  "kernelspec": {
   "display_name": "Python 3",
   "language": "python",
   "name": "python3"
  },
  "language_info": {
   "codemirror_mode": {
    "name": "ipython",
    "version": 3
   },
   "file_extension": ".py",
   "mimetype": "text/x-python",
   "name": "python",
   "nbconvert_exporter": "python",
   "pygments_lexer": "ipython3",
   "version": "3.7.1"
  }
 },
 "nbformat": 4,
 "nbformat_minor": 2
}
